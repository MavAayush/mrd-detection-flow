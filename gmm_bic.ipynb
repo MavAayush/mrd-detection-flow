{
 "cells": [
  {
   "cell_type": "code",
   "execution_count": 1,
   "id": "4d16fe48",
   "metadata": {},
   "outputs": [],
   "source": [
    "import numpy as np\n",
    "import pandas as pd\n",
    "from sklearn.preprocessing import StandardScaler\n",
    "from sklearn.mixture import GaussianMixture\n",
    "import matplotlib.pyplot as plt\n",
    "import seaborn as sns\n",
    "import joblib\n",
    "import os"
   ]
  },
  {
   "cell_type": "code",
   "execution_count": 2,
   "id": "8c797baa",
   "metadata": {},
   "outputs": [],
   "source": [
    "patients = {\n",
    "    1: ['Data/organized_fcs_data1a.csv', 'Data/organized_fcs_data1b.csv', 'Data/organized_fcs_data1c.csv'],\n",
    "    2: ['Data/organized_fcs_data2a.csv', 'Data/organized_fcs_data2b.csv', 'Data/organized_fcs_data2c.csv'],\n",
    "    3: ['Data/organized_fcs_data3a.csv', 'Data/organized_fcs_data3b.csv', 'Data/organized_fcs_data3c.csv'],\n",
    "    4: ['Data/organized_fcs_data4a.csv', 'Data/organized_fcs_data4b.csv', 'Data/organized_fcs_data4c.csv'],\n",
    "    5: ['Data/organized_fcs_data5a.csv', 'Data/organized_fcs_data5b.csv', 'Data/organized_fcs_data5c.csv'],\n",
    "    6: ['Data/organized_fcs_data6a.csv', 'Data/organized_fcs_data6b.csv', 'Data/organized_fcs_data6c.csv'],\n",
    "    7: ['Data/organized_fcs_data7.csv'],\n",
    "    8: ['Data/organized_fcs_data8a.csv', 'Data/organized_fcs_data8b.csv', 'Data/organized_fcs_data8c.csv'],\n",
    "    9: ['Data/organized_fcs_data9a.csv', 'Data/organized_fcs_data9b.csv'],\n",
    "    10: ['Data/organized_fcs_data10a.csv', 'Data/organized_fcs_data10b.csv', 'Data/organized_fcs_data10c.csv'],\n",
    "    11: ['Data/organized_fcs_data11.csv'],\n",
    "    12: ['Data/organized_fcs_data12a.csv', 'Data/organized_fcs_data12b.csv', 'Data/organized_fcs_data12c.csv']\n",
    "}"
   ]
  },
  {
   "cell_type": "code",
   "execution_count": 3,
   "id": "eef4fc9b",
   "metadata": {},
   "outputs": [],
   "source": [
    "def load_patient_data(patient_ids):\n",
    "    all_data = []\n",
    "    for pid in patient_ids:\n",
    "        for file in patients[pid]:\n",
    "            if os.path.exists(file):\n",
    "                df = pd.read_csv(file)\n",
    "                df = df.drop(columns=['Time'])  \n",
    "                all_data.append(df.values)\n",
    "            else:\n",
    "                print(f\"File not found: {file}\")\n",
    "    if all_data:\n",
    "        return np.vstack(all_data)\n",
    "    else:\n",
    "        return np.empty((0, 14))"
   ]
  },
  {
   "cell_type": "code",
   "execution_count": 4,
   "id": "4a377767",
   "metadata": {},
   "outputs": [],
   "source": [
    "healthy_cells = load_patient_data([1, 2, 3, 4, 5, 6])\n",
    "unhealthy_cells = load_patient_data([7, 8, 9, 10, 11, 12])"
   ]
  },
  {
   "cell_type": "code",
   "execution_count": 5,
   "id": "b59c2f24",
   "metadata": {},
   "outputs": [
    {
     "name": "stdout",
     "output_type": "stream",
     "text": [
      "Subsampling healthy patients data for efficient fitting\n"
     ]
    }
   ],
   "source": [
    "# Downsampling to speed up fitting \n",
    "print(\"Subsampling healthy patients data for efficient fitting\")\n",
    "healthy_sample_size = min(len(healthy_cells), 100000)\n",
    "healthy_sample = healthy_cells[np.random.choice(len(healthy_cells), healthy_sample_size, replace=False)]"
   ]
  },
  {
   "cell_type": "code",
   "execution_count": 6,
   "id": "f6f8c90f",
   "metadata": {},
   "outputs": [
    {
     "name": "stdout",
     "output_type": "stream",
     "text": [
      "Scaling data\n"
     ]
    }
   ],
   "source": [
    "# Scaling data \n",
    "print(\"Scaling data\")\n",
    "scaler = StandardScaler()\n",
    "healthy_sample_scaled = scaler.fit_transform(healthy_sample)\n",
    "healthy_cells_scaled = scaler.transform(healthy_cells)\n",
    "unhealthy_cells_scaled = scaler.transform(unhealthy_cells)"
   ]
  },
  {
   "cell_type": "code",
   "execution_count": 7,
   "id": "aefe91c5",
   "metadata": {},
   "outputs": [
    {
     "name": "stdout",
     "output_type": "stream",
     "text": [
      "Number of components using BIC\n",
      "GMM with 2 components - BIC: 2859123.08\n",
      "GMM with 3 components - BIC: 2454034.57\n",
      "GMM with 4 components - BIC: 2338146.74\n",
      "GMM with 5 components - BIC: 2258023.15\n",
      "GMM with 6 components - BIC: 2189939.79\n",
      "GMM with 7 components - BIC: 2161261.60\n",
      "GMM with 8 components - BIC: 2130472.10\n",
      "GMM with 9 components - BIC: 2102244.17\n",
      "GMM with 10 components - BIC: 2072265.29\n",
      "GMM with 11 components - BIC: 2073732.82\n",
      "GMM with 12 components - BIC: 2065757.95\n",
      "GMM with 13 components - BIC: 2041063.96\n",
      "GMM with 14 components - BIC: 1977442.73\n",
      "GMM with 15 components - BIC: 1957848.42\n",
      "GMM with 16 components - BIC: 1907239.73\n",
      "GMM with 17 components - BIC: 1901919.23\n",
      "GMM with 18 components - BIC: 1898813.44\n",
      "GMM with 19 components - BIC: 1892941.40\n",
      "GMM with 20 components - BIC: 1887441.94\n",
      "GMM with 21 components - BIC: 1856188.61\n",
      "GMM with 22 components - BIC: 1854988.71\n",
      "GMM with 23 components - BIC: 1815332.87\n",
      "GMM with 24 components - BIC: 1812863.96\n",
      "GMM with 25 components - BIC: 1815241.86\n",
      "GMM with 26 components - BIC: 1820092.54\n",
      "GMM with 27 components - BIC: 1818082.10\n",
      "GMM with 28 components - BIC: 1817029.34\n",
      "GMM with 29 components - BIC: 1813097.62\n",
      "GMM with 30 components - BIC: 1811455.64\n",
      "GMM with 31 components - BIC: 1804466.91\n",
      "GMM with 32 components - BIC: 1759362.44\n",
      "GMM with 33 components - BIC: 1759395.01\n",
      "GMM with 34 components - BIC: 1751417.73\n",
      "GMM with 35 components - BIC: 1763944.24\n",
      "GMM with 36 components - BIC: 1750347.88\n",
      "GMM with 37 components - BIC: 1748231.33\n",
      "GMM with 38 components - BIC: 1746189.63\n",
      "GMM with 39 components - BIC: 1737881.00\n",
      "GMM with 40 components - BIC: 1743028.53\n",
      "GMM with 41 components - BIC: 1743072.91\n",
      "GMM with 42 components - BIC: 1738642.48\n",
      "GMM with 43 components - BIC: 1741746.89\n",
      "GMM with 44 components - BIC: 1727695.59\n",
      "GMM with 45 components - BIC: 1703295.57\n",
      "GMM with 46 components - BIC: 1711741.16\n",
      "GMM with 47 components - BIC: 1701861.74\n",
      "GMM with 48 components - BIC: 1705761.28\n",
      "GMM with 49 components - BIC: 1686959.61\n",
      "GMM with 50 components - BIC: 1696218.09\n",
      "GMM with 51 components - BIC: 1695972.47\n",
      "GMM with 52 components - BIC: 1694818.31\n",
      "GMM with 53 components - BIC: 1693494.53\n",
      "GMM with 54 components - BIC: 1694152.02\n",
      "GMM with 55 components - BIC: 1694657.82\n",
      "GMM with 56 components - BIC: 1694353.67\n",
      "GMM with 57 components - BIC: 1692916.13\n",
      "GMM with 58 components - BIC: 1689703.30\n",
      "GMM with 59 components - BIC: 1691487.51\n",
      "GMM with 60 components - BIC: 1683840.09\n",
      "GMM with 61 components - BIC: 1681289.89\n",
      "GMM with 62 components - BIC: 1691462.17\n",
      "GMM with 63 components - BIC: 1691054.38\n",
      "GMM with 64 components - BIC: 1695504.27\n",
      "GMM with 65 components - BIC: 1696159.41\n",
      "GMM with 66 components - BIC: 1693441.56\n",
      "GMM with 67 components - BIC: 1680392.94\n",
      "GMM with 68 components - BIC: 1693011.42\n",
      "GMM with 69 components - BIC: 1679796.64\n",
      "GMM with 70 components - BIC: 1641588.06\n",
      "GMM with 71 components - BIC: 1645696.57\n",
      "GMM with 72 components - BIC: 1654267.17\n",
      "GMM with 73 components - BIC: 1658184.84\n",
      "GMM with 74 components - BIC: 1644265.90\n",
      "GMM with 75 components - BIC: 1680218.28\n",
      "GMM with 76 components - BIC: 1647698.98\n",
      "GMM with 77 components - BIC: 1676871.08\n",
      "GMM with 78 components - BIC: 1685660.55\n",
      "GMM with 79 components - BIC: 1637560.62\n",
      "GMM with 80 components - BIC: 1643234.69\n",
      "GMM with 81 components - BIC: 1650111.36\n",
      "GMM with 82 components - BIC: 1642759.13\n",
      "GMM with 83 components - BIC: 1625424.68\n",
      "GMM with 84 components - BIC: 1625863.41\n",
      "GMM with 85 components - BIC: 1640643.17\n",
      "GMM with 86 components - BIC: 1640066.68\n",
      "GMM with 87 components - BIC: 1672427.49\n",
      "GMM with 88 components - BIC: 1637760.79\n",
      "GMM with 89 components - BIC: 1687821.48\n",
      "GMM with 90 components - BIC: 1693502.54\n",
      "GMM with 91 components - BIC: 1693895.91\n",
      "GMM with 92 components - BIC: 1652652.08\n",
      "GMM with 93 components - BIC: 1687206.89\n",
      "GMM with 94 components - BIC: 1648773.21\n",
      "GMM with 95 components - BIC: 1649881.53\n",
      "GMM with 96 components - BIC: 1637504.94\n",
      "GMM with 97 components - BIC: 1637178.78\n",
      "GMM with 98 components - BIC: 1641528.71\n",
      "GMM with 99 components - BIC: 1649542.78\n",
      "\n",
      "Best number of components based on BIC: 83\n",
      "Model saved\n"
     ]
    }
   ],
   "source": [
    "print(\"Number of components using BIC\")\n",
    "bic_scores = []\n",
    "lowest_bic = np.inf\n",
    "best_gmm = None\n",
    "best_n = None\n",
    "n_components_range = range(2, 100)\n",
    "\n",
    "for n in n_components_range:\n",
    "    gmm = GaussianMixture(n_components=n, covariance_type='full', random_state=42)\n",
    "    gmm.fit(healthy_sample_scaled)\n",
    "    bic = gmm.bic(healthy_sample_scaled)\n",
    "    bic_scores.append(bic)\n",
    "    print(f\"GMM with {n} components - BIC: {bic:.2f}\")\n",
    "    if bic < lowest_bic:\n",
    "        lowest_bic = bic\n",
    "        best_gmm = gmm\n",
    "        best_n = n\n",
    "\n",
    "print(f\"\\nBest number of components based on BIC: {best_n}\")\n",
    "joblib.dump(best_gmm, 'gmm_bic.pkl')\n",
    "print(\"Model saved\")"
   ]
  },
  {
   "cell_type": "code",
   "execution_count": 12,
   "id": "f7bccf29",
   "metadata": {},
   "outputs": [
    {
     "data": {
      "image/png": "[encoded data removed]",
      "text/plain": [
       "<Figure size 1000x500 with 1 Axes>"
      ]
     },
     "metadata": {},
     "output_type": "display_data"
    }
   ],
   "source": [
    "plt.figure(figsize=(10, 5))\n",
    "plt.plot(n_components_range, bic_scores, marker='o', linestyle='-')\n",
    "plt.xlabel('Number of Components')\n",
    "plt.ylabel('BIC Score')\n",
    "plt.title('BIC vs Number of GMM Components')\n",
    "plt.grid(True)\n",
    "plt.xticks(range(2, 101, 5))  # optional: reduce ticks for readability\n",
    "plt.tight_layout()\n",
    "plt.show()"
   ]
  }
 ],
 "metadata": {
  "kernelspec": {
   "display_name": "dl_env",
   "language": "python",
   "name": "python3"
  },
  "language_info": {
   "codemirror_mode": {
    "name": "ipython",
    "version": 3
   },
   "file_extension": ".py",
   "mimetype": "text/x-python",
   "name": "python",
   "nbconvert_exporter": "python",
   "pygments_lexer": "ipython3",
   "version": "3.10.13"
  }
 },
 "nbformat": 4,
 "nbformat_minor": 5
}
