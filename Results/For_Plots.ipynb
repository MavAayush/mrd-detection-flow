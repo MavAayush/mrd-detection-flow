{
 "cells": [
  {
   "cell_type": "code",
   "execution_count": 1,
   "id": "44009739",
   "metadata": {},
   "outputs": [],
   "source": [
    "# Importing necessary libraries\n",
    "import torch\n",
    "import torch.nn as nn\n",
    "import torch.optim as optim\n",
    "import pandas as pd\n",
    "import numpy as np\n",
    "import sklearn\n",
    "from sklearn.model_selection import train_test_split\n",
    "from sklearn.preprocessing import MinMaxScaler\n",
    "from sklearn.pipeline import Pipeline\n",
    "import matplotlib.pyplot as plt\n",
    "import seaborn as sns\n",
    "import random as rn\n",
    "import joblib\n",
    "from torch.utils.data import Dataset, DataLoader\n",
    "import time\n",
    "import torch.nn.functional as F"
   ]
  },
  {
   "cell_type": "code",
   "execution_count": 2,
   "id": "3f65e772",
   "metadata": {},
   "outputs": [],
   "source": [
    "# Preset parameters\n",
    "RANDOM_SEED = 42\n",
    "VALIDATE_SIZE = 0.2"
   ]
  },
  {
   "cell_type": "code",
   "execution_count": 3,
   "id": "3dc64966",
   "metadata": {},
   "outputs": [],
   "source": [
    "# Setting random seeds to ensure reproducibility\n",
    "torch.manual_seed(RANDOM_SEED)\n",
    "np.random.seed(RANDOM_SEED)\n",
    "rn.seed(RANDOM_SEED)"
   ]
  },
  {
   "cell_type": "code",
   "execution_count": 4,
   "id": "fc097d72",
   "metadata": {},
   "outputs": [],
   "source": [
    "# Patient file paths\n",
    "patients = {\n",
    "    1: ['Data/organized_fcs_data1a.csv', 'Data/organized_fcs_data1b.csv', 'Data/organized_fcs_data1c.csv'],\n",
    "    2: ['Data/organized_fcs_data2a.csv', 'Data/organized_fcs_data2b.csv', 'Data/organized_fcs_data2c.csv'],\n",
    "    3: ['Data/organized_fcs_data3a.csv', 'Data/organized_fcs_data3b.csv', 'Data/organized_fcs_data3c.csv'],\n",
    "    4: ['Data/organized_fcs_data4a.csv', 'Data/organized_fcs_data4b.csv', 'Data/organized_fcs_data4c.csv'],\n",
    "    5: ['Data/organized_fcs_data5a.csv', 'Data/organized_fcs_data5b.csv', 'Data/organized_fcs_data5c.csv'],\n",
    "    6: ['Data/organized_fcs_data6a.csv', 'Data/organized_fcs_data6b.csv', 'Data/organized_fcs_data6c.csv'],\n",
    "    7: ['Data/organized_fcs_data7.csv'],\n",
    "    8: ['Data/organized_fcs_data8a.csv', 'Data/organized_fcs_data8b.csv', 'Data/organized_fcs_data8c.csv'],\n",
    "    9: ['Data/organized_fcs_data9a.csv', 'Data/organized_fcs_data9b.csv'],\n",
    "    10: ['Data/organized_fcs_data10a.csv', 'Data/organized_fcs_data10b.csv', 'Data/organized_fcs_data10c.csv'],\n",
    "    11: ['Data/organized_fcs_data11.csv'],\n",
    "    12: ['Data/organized_fcs_data12a.csv', 'Data/organized_fcs_data12b.csv', 'Data/organized_fcs_data12c.csv'],\n",
    "    13: ['Data/Case_13a.csv', 'Data/Case_13b.csv', 'Data/Case_13c.csv'],\n",
    "    14: ['Data/Case_14a.csv', 'Data/Case_14b.csv', 'Data/Case_14c.csv'],\n",
    "    15: ['Data/Case_15a.csv', 'Data/Case_15b.csv', 'Data/Case_15c.csv'],\n",
    "    16: ['Data/Case_16a.csv', 'Data/Case_16b.csv', 'Data/Case_16c.csv'],\n",
    "    17: ['Data/Case_17a.csv', 'Data/Case_17b.csv', 'Data/Case_17c.csv'],\n",
    "    18: ['Data/Case_18.csv']\n",
    "}"
   ]
  },
  {
   "cell_type": "code",
   "execution_count": 5,
   "id": "03557d7d",
   "metadata": {},
   "outputs": [],
   "source": [
    "training_dfs = []\n",
    "testing_dfs = []\n",
    "\n",
    "first_six_ids = [1, 2, 3, 4, 5, 6]\n",
    "training_ids = [1,2,3,4,5]     \n",
    "\n",
    "for patient_id, file_paths in patients.items():\n",
    "    patient_data = pd.concat([pd.read_csv(file).drop(columns=['Time'], errors='ignore') for file in file_paths])\n",
    "    \n",
    "    if patient_id in training_ids:\n",
    "        training_dfs.append(patient_data)\n",
    "    if patient_id not in training_ids and patient_id in first_six_ids:\n",
    "        testing_dfs.append(patient_data)\n",
    "\n",
    "train_full = pd.concat(training_dfs, ignore_index=True)\n",
    "test_full = pd.concat(testing_dfs, ignore_index=True)"
   ]
  },
  {
   "cell_type": "code",
   "execution_count": 6,
   "id": "0ef8b9bd",
   "metadata": {},
   "outputs": [
    {
     "name": "stdout",
     "output_type": "stream",
     "text": [
      "[1, 2, 3, 4, 5]\n"
     ]
    }
   ],
   "source": [
    "print(training_ids)"
   ]
  },
  {
   "cell_type": "code",
   "execution_count": 41,
   "id": "cfa1c123",
   "metadata": {},
   "outputs": [
    {
     "name": "stdout",
     "output_type": "stream",
     "text": [
      "Training data samples: 5\n",
      "Testing data samples: 1\n"
     ]
    }
   ],
   "source": [
    "print(f\"Training data samples: {len(training_dfs)}\")\n",
    "print(f\"Testing data samples: {len(testing_dfs)}\")"
   ]
  },
  {
   "cell_type": "code",
   "execution_count": 6,
   "id": "0b705163",
   "metadata": {},
   "outputs": [
    {
     "data": {
      "text/html": [
       "<style>#sk-container-id-1 {\n",
       "  /* Definition of color scheme common for light and dark mode */\n",
       "  --sklearn-color-text: #000;\n",
       "  --sklearn-color-text-muted: #666;\n",
       "  --sklearn-color-line: gray;\n",
       "  /* Definition of color scheme for unfitted estimators */\n",
       "  --sklearn-color-unfitted-level-0: #fff5e6;\n",
       "  --sklearn-color-unfitted-level-1: #f6e4d2;\n",
       "  --sklearn-color-unfitted-level-2: #ffe0b3;\n",
       "  --sklearn-color-unfitted-level-3: chocolate;\n",
       "  /* Definition of color scheme for fitted estimators */\n",
       "  --sklearn-color-fitted-level-0: #f0f8ff;\n",
       "  --sklearn-color-fitted-level-1: #d4ebff;\n",
       "  --sklearn-color-fitted-level-2: #b3dbfd;\n",
       "  --sklearn-color-fitted-level-3: cornflowerblue;\n",
       "\n",
       "  /* Specific color for light theme */\n",
       "  --sklearn-color-text-on-default-background: var(--sg-text-color, var(--theme-code-foreground, var(--jp-content-font-color1, black)));\n",
       "  --sklearn-color-background: var(--sg-background-color, var(--theme-background, var(--jp-layout-color0, white)));\n",
       "  --sklearn-color-border-box: var(--sg-text-color, var(--theme-code-foreground, var(--jp-content-font-color1, black)));\n",
       "  --sklearn-color-icon: #696969;\n",
       "\n",
       "  @media (prefers-color-scheme: dark) {\n",
       "    /* Redefinition of color scheme for dark theme */\n",
       "    --sklearn-color-text-on-default-background: var(--sg-text-color, var(--theme-code-foreground, var(--jp-content-font-color1, white)));\n",
       "    --sklearn-color-background: var(--sg-background-color, var(--theme-background, var(--jp-layout-color0, #111)));\n",
       "    --sklearn-color-border-box: var(--sg-text-color, var(--theme-code-foreground, var(--jp-content-font-color1, white)));\n",
       "    --sklearn-color-icon: #878787;\n",
       "  }\n",
       "}\n",
       "\n",
       "#sk-container-id-1 {\n",
       "  color: var(--sklearn-color-text);\n",
       "}\n",
       "\n",
       "#sk-container-id-1 pre {\n",
       "  padding: 0;\n",
       "}\n",
       "\n",
       "#sk-container-id-1 input.sk-hidden--visually {\n",
       "  border: 0;\n",
       "  clip: rect(1px 1px 1px 1px);\n",
       "  clip: rect(1px, 1px, 1px, 1px);\n",
       "  height: 1px;\n",
       "  margin: -1px;\n",
       "  overflow: hidden;\n",
       "  padding: 0;\n",
       "  position: absolute;\n",
       "  width: 1px;\n",
       "}\n",
       "\n",
       "#sk-container-id-1 div.sk-dashed-wrapped {\n",
       "  border: 1px dashed var(--sklearn-color-line);\n",
       "  margin: 0 0.4em 0.5em 0.4em;\n",
       "  box-sizing: border-box;\n",
       "  padding-bottom: 0.4em;\n",
       "  background-color: var(--sklearn-color-background);\n",
       "}\n",
       "\n",
       "#sk-container-id-1 div.sk-container {\n",
       "  /* jupyter's `normalize.less` sets `[hidden] { display: none; }`\n",
       "     but bootstrap.min.css set `[hidden] { display: none !important; }`\n",
       "     so we also need the `!important` here to be able to override the\n",
       "     default hidden behavior on the sphinx rendered scikit-learn.org.\n",
       "     See: https://github.com/scikit-learn/scikit-learn/issues/21755 */\n",
       "  display: inline-block !important;\n",
       "  position: relative;\n",
       "}\n",
       "\n",
       "#sk-container-id-1 div.sk-text-repr-fallback {\n",
       "  display: none;\n",
       "}\n",
       "\n",
       "div.sk-parallel-item,\n",
       "div.sk-serial,\n",
       "div.sk-item {\n",
       "  /* draw centered vertical line to link estimators */\n",
       "  background-image: linear-gradient(var(--sklearn-color-text-on-default-background), var(--sklearn-color-text-on-default-background));\n",
       "  background-size: 2px 100%;\n",
       "  background-repeat: no-repeat;\n",
       "  background-position: center center;\n",
       "}\n",
       "\n",
       "/* Parallel-specific style estimator block */\n",
       "\n",
       "#sk-container-id-1 div.sk-parallel-item::after {\n",
       "  content: \"\";\n",
       "  width: 100%;\n",
       "  border-bottom: 2px solid var(--sklearn-color-text-on-default-background);\n",
       "  flex-grow: 1;\n",
       "}\n",
       "\n",
       "#sk-container-id-1 div.sk-parallel {\n",
       "  display: flex;\n",
       "  align-items: stretch;\n",
       "  justify-content: center;\n",
       "  background-color: var(--sklearn-color-background);\n",
       "  position: relative;\n",
       "}\n",
       "\n",
       "#sk-container-id-1 div.sk-parallel-item {\n",
       "  display: flex;\n",
       "  flex-direction: column;\n",
       "}\n",
       "\n",
       "#sk-container-id-1 div.sk-parallel-item:first-child::after {\n",
       "  align-self: flex-end;\n",
       "  width: 50%;\n",
       "}\n",
       "\n",
       "#sk-container-id-1 div.sk-parallel-item:last-child::after {\n",
       "  align-self: flex-start;\n",
       "  width: 50%;\n",
       "}\n",
       "\n",
       "#sk-container-id-1 div.sk-parallel-item:only-child::after {\n",
       "  width: 0;\n",
       "}\n",
       "\n",
       "/* Serial-specific style estimator block */\n",
       "\n",
       "#sk-container-id-1 div.sk-serial {\n",
       "  display: flex;\n",
       "  flex-direction: column;\n",
       "  align-items: center;\n",
       "  background-color: var(--sklearn-color-background);\n",
       "  padding-right: 1em;\n",
       "  padding-left: 1em;\n",
       "}\n",
       "\n",
       "\n",
       "/* Toggleable style: style used for estimator/Pipeline/ColumnTransformer box that is\n",
       "clickable and can be expanded/collapsed.\n",
       "- Pipeline and ColumnTransformer use this feature and define the default style\n",
       "- Estimators will overwrite some part of the style using the `sk-estimator` class\n",
       "*/\n",
       "\n",
       "/* Pipeline and ColumnTransformer style (default) */\n",
       "\n",
       "#sk-container-id-1 div.sk-toggleable {\n",
       "  /* Default theme specific background. It is overwritten whether we have a\n",
       "  specific estimator or a Pipeline/ColumnTransformer */\n",
       "  background-color: var(--sklearn-color-background);\n",
       "}\n",
       "\n",
       "/* Toggleable label */\n",
       "#sk-container-id-1 label.sk-toggleable__label {\n",
       "  cursor: pointer;\n",
       "  display: flex;\n",
       "  width: 100%;\n",
       "  margin-bottom: 0;\n",
       "  padding: 0.5em;\n",
       "  box-sizing: border-box;\n",
       "  text-align: center;\n",
       "  align-items: start;\n",
       "  justify-content: space-between;\n",
       "  gap: 0.5em;\n",
       "}\n",
       "\n",
       "#sk-container-id-1 label.sk-toggleable__label .caption {\n",
       "  font-size: 0.6rem;\n",
       "  font-weight: lighter;\n",
       "  color: var(--sklearn-color-text-muted);\n",
       "}\n",
       "\n",
       "#sk-container-id-1 label.sk-toggleable__label-arrow:before {\n",
       "  /* Arrow on the left of the label */\n",
       "  content: \"▸\";\n",
       "  float: left;\n",
       "  margin-right: 0.25em;\n",
       "  color: var(--sklearn-color-icon);\n",
       "}\n",
       "\n",
       "#sk-container-id-1 label.sk-toggleable__label-arrow:hover:before {\n",
       "  color: var(--sklearn-color-text);\n",
       "}\n",
       "\n",
       "/* Toggleable content - dropdown */\n",
       "\n",
       "#sk-container-id-1 div.sk-toggleable__content {\n",
       "  max-height: 0;\n",
       "  max-width: 0;\n",
       "  overflow: hidden;\n",
       "  text-align: left;\n",
       "  /* unfitted */\n",
       "  background-color: var(--sklearn-color-unfitted-level-0);\n",
       "}\n",
       "\n",
       "#sk-container-id-1 div.sk-toggleable__content.fitted {\n",
       "  /* fitted */\n",
       "  background-color: var(--sklearn-color-fitted-level-0);\n",
       "}\n",
       "\n",
       "#sk-container-id-1 div.sk-toggleable__content pre {\n",
       "  margin: 0.2em;\n",
       "  border-radius: 0.25em;\n",
       "  color: var(--sklearn-color-text);\n",
       "  /* unfitted */\n",
       "  background-color: var(--sklearn-color-unfitted-level-0);\n",
       "}\n",
       "\n",
       "#sk-container-id-1 div.sk-toggleable__content.fitted pre {\n",
       "  /* unfitted */\n",
       "  background-color: var(--sklearn-color-fitted-level-0);\n",
       "}\n",
       "\n",
       "#sk-container-id-1 input.sk-toggleable__control:checked~div.sk-toggleable__content {\n",
       "  /* Expand drop-down */\n",
       "  max-height: 200px;\n",
       "  max-width: 100%;\n",
       "  overflow: auto;\n",
       "}\n",
       "\n",
       "#sk-container-id-1 input.sk-toggleable__control:checked~label.sk-toggleable__label-arrow:before {\n",
       "  content: \"▾\";\n",
       "}\n",
       "\n",
       "/* Pipeline/ColumnTransformer-specific style */\n",
       "\n",
       "#sk-container-id-1 div.sk-label input.sk-toggleable__control:checked~label.sk-toggleable__label {\n",
       "  color: var(--sklearn-color-text);\n",
       "  background-color: var(--sklearn-color-unfitted-level-2);\n",
       "}\n",
       "\n",
       "#sk-container-id-1 div.sk-label.fitted input.sk-toggleable__control:checked~label.sk-toggleable__label {\n",
       "  background-color: var(--sklearn-color-fitted-level-2);\n",
       "}\n",
       "\n",
       "/* Estimator-specific style */\n",
       "\n",
       "/* Colorize estimator box */\n",
       "#sk-container-id-1 div.sk-estimator input.sk-toggleable__control:checked~label.sk-toggleable__label {\n",
       "  /* unfitted */\n",
       "  background-color: var(--sklearn-color-unfitted-level-2);\n",
       "}\n",
       "\n",
       "#sk-container-id-1 div.sk-estimator.fitted input.sk-toggleable__control:checked~label.sk-toggleable__label {\n",
       "  /* fitted */\n",
       "  background-color: var(--sklearn-color-fitted-level-2);\n",
       "}\n",
       "\n",
       "#sk-container-id-1 div.sk-label label.sk-toggleable__label,\n",
       "#sk-container-id-1 div.sk-label label {\n",
       "  /* The background is the default theme color */\n",
       "  color: var(--sklearn-color-text-on-default-background);\n",
       "}\n",
       "\n",
       "/* On hover, darken the color of the background */\n",
       "#sk-container-id-1 div.sk-label:hover label.sk-toggleable__label {\n",
       "  color: var(--sklearn-color-text);\n",
       "  background-color: var(--sklearn-color-unfitted-level-2);\n",
       "}\n",
       "\n",
       "/* Label box, darken color on hover, fitted */\n",
       "#sk-container-id-1 div.sk-label.fitted:hover label.sk-toggleable__label.fitted {\n",
       "  color: var(--sklearn-color-text);\n",
       "  background-color: var(--sklearn-color-fitted-level-2);\n",
       "}\n",
       "\n",
       "/* Estimator label */\n",
       "\n",
       "#sk-container-id-1 div.sk-label label {\n",
       "  font-family: monospace;\n",
       "  font-weight: bold;\n",
       "  display: inline-block;\n",
       "  line-height: 1.2em;\n",
       "}\n",
       "\n",
       "#sk-container-id-1 div.sk-label-container {\n",
       "  text-align: center;\n",
       "}\n",
       "\n",
       "/* Estimator-specific */\n",
       "#sk-container-id-1 div.sk-estimator {\n",
       "  font-family: monospace;\n",
       "  border: 1px dotted var(--sklearn-color-border-box);\n",
       "  border-radius: 0.25em;\n",
       "  box-sizing: border-box;\n",
       "  margin-bottom: 0.5em;\n",
       "  /* unfitted */\n",
       "  background-color: var(--sklearn-color-unfitted-level-0);\n",
       "}\n",
       "\n",
       "#sk-container-id-1 div.sk-estimator.fitted {\n",
       "  /* fitted */\n",
       "  background-color: var(--sklearn-color-fitted-level-0);\n",
       "}\n",
       "\n",
       "/* on hover */\n",
       "#sk-container-id-1 div.sk-estimator:hover {\n",
       "  /* unfitted */\n",
       "  background-color: var(--sklearn-color-unfitted-level-2);\n",
       "}\n",
       "\n",
       "#sk-container-id-1 div.sk-estimator.fitted:hover {\n",
       "  /* fitted */\n",
       "  background-color: var(--sklearn-color-fitted-level-2);\n",
       "}\n",
       "\n",
       "/* Specification for estimator info (e.g. \"i\" and \"?\") */\n",
       "\n",
       "/* Common style for \"i\" and \"?\" */\n",
       "\n",
       ".sk-estimator-doc-link,\n",
       "a:link.sk-estimator-doc-link,\n",
       "a:visited.sk-estimator-doc-link {\n",
       "  float: right;\n",
       "  font-size: smaller;\n",
       "  line-height: 1em;\n",
       "  font-family: monospace;\n",
       "  background-color: var(--sklearn-color-background);\n",
       "  border-radius: 1em;\n",
       "  height: 1em;\n",
       "  width: 1em;\n",
       "  text-decoration: none !important;\n",
       "  margin-left: 0.5em;\n",
       "  text-align: center;\n",
       "  /* unfitted */\n",
       "  border: var(--sklearn-color-unfitted-level-1) 1pt solid;\n",
       "  color: var(--sklearn-color-unfitted-level-1);\n",
       "}\n",
       "\n",
       ".sk-estimator-doc-link.fitted,\n",
       "a:link.sk-estimator-doc-link.fitted,\n",
       "a:visited.sk-estimator-doc-link.fitted {\n",
       "  /* fitted */\n",
       "  border: var(--sklearn-color-fitted-level-1) 1pt solid;\n",
       "  color: var(--sklearn-color-fitted-level-1);\n",
       "}\n",
       "\n",
       "/* On hover */\n",
       "div.sk-estimator:hover .sk-estimator-doc-link:hover,\n",
       ".sk-estimator-doc-link:hover,\n",
       "div.sk-label-container:hover .sk-estimator-doc-link:hover,\n",
       ".sk-estimator-doc-link:hover {\n",
       "  /* unfitted */\n",
       "  background-color: var(--sklearn-color-unfitted-level-3);\n",
       "  color: var(--sklearn-color-background);\n",
       "  text-decoration: none;\n",
       "}\n",
       "\n",
       "div.sk-estimator.fitted:hover .sk-estimator-doc-link.fitted:hover,\n",
       ".sk-estimator-doc-link.fitted:hover,\n",
       "div.sk-label-container:hover .sk-estimator-doc-link.fitted:hover,\n",
       ".sk-estimator-doc-link.fitted:hover {\n",
       "  /* fitted */\n",
       "  background-color: var(--sklearn-color-fitted-level-3);\n",
       "  color: var(--sklearn-color-background);\n",
       "  text-decoration: none;\n",
       "}\n",
       "\n",
       "/* Span, style for the box shown on hovering the info icon */\n",
       ".sk-estimator-doc-link span {\n",
       "  display: none;\n",
       "  z-index: 9999;\n",
       "  position: relative;\n",
       "  font-weight: normal;\n",
       "  right: .2ex;\n",
       "  padding: .5ex;\n",
       "  margin: .5ex;\n",
       "  width: min-content;\n",
       "  min-width: 20ex;\n",
       "  max-width: 50ex;\n",
       "  color: var(--sklearn-color-text);\n",
       "  box-shadow: 2pt 2pt 4pt #999;\n",
       "  /* unfitted */\n",
       "  background: var(--sklearn-color-unfitted-level-0);\n",
       "  border: .5pt solid var(--sklearn-color-unfitted-level-3);\n",
       "}\n",
       "\n",
       ".sk-estimator-doc-link.fitted span {\n",
       "  /* fitted */\n",
       "  background: var(--sklearn-color-fitted-level-0);\n",
       "  border: var(--sklearn-color-fitted-level-3);\n",
       "}\n",
       "\n",
       ".sk-estimator-doc-link:hover span {\n",
       "  display: block;\n",
       "}\n",
       "\n",
       "/* \"?\"-specific style due to the `<a>` HTML tag */\n",
       "\n",
       "#sk-container-id-1 a.estimator_doc_link {\n",
       "  float: right;\n",
       "  font-size: 1rem;\n",
       "  line-height: 1em;\n",
       "  font-family: monospace;\n",
       "  background-color: var(--sklearn-color-background);\n",
       "  border-radius: 1rem;\n",
       "  height: 1rem;\n",
       "  width: 1rem;\n",
       "  text-decoration: none;\n",
       "  /* unfitted */\n",
       "  color: var(--sklearn-color-unfitted-level-1);\n",
       "  border: var(--sklearn-color-unfitted-level-1) 1pt solid;\n",
       "}\n",
       "\n",
       "#sk-container-id-1 a.estimator_doc_link.fitted {\n",
       "  /* fitted */\n",
       "  border: var(--sklearn-color-fitted-level-1) 1pt solid;\n",
       "  color: var(--sklearn-color-fitted-level-1);\n",
       "}\n",
       "\n",
       "/* On hover */\n",
       "#sk-container-id-1 a.estimator_doc_link:hover {\n",
       "  /* unfitted */\n",
       "  background-color: var(--sklearn-color-unfitted-level-3);\n",
       "  color: var(--sklearn-color-background);\n",
       "  text-decoration: none;\n",
       "}\n",
       "\n",
       "#sk-container-id-1 a.estimator_doc_link.fitted:hover {\n",
       "  /* fitted */\n",
       "  background-color: var(--sklearn-color-fitted-level-3);\n",
       "}\n",
       "</style><div id=\"sk-container-id-1\" class=\"sk-top-container\"><div class=\"sk-text-repr-fallback\"><pre>Pipeline(steps=[(&#x27;scaler&#x27;, MinMaxScaler())])</pre><b>In a Jupyter environment, please rerun this cell to show the HTML representation or trust the notebook. <br />On GitHub, the HTML representation is unable to render, please try loading this page with nbviewer.org.</b></div><div class=\"sk-container\" hidden><div class=\"sk-item sk-dashed-wrapped\"><div class=\"sk-label-container\"><div class=\"sk-label fitted sk-toggleable\"><input class=\"sk-toggleable__control sk-hidden--visually\" id=\"sk-estimator-id-1\" type=\"checkbox\" ><label for=\"sk-estimator-id-1\" class=\"sk-toggleable__label fitted sk-toggleable__label-arrow\"><div><div>Pipeline</div></div><div><a class=\"sk-estimator-doc-link fitted\" rel=\"noreferrer\" target=\"_blank\" href=\"https://scikit-learn.org/1.6/modules/generated/sklearn.pipeline.Pipeline.html\">?<span>Documentation for Pipeline</span></a><span class=\"sk-estimator-doc-link fitted\">i<span>Fitted</span></span></div></label><div class=\"sk-toggleable__content fitted\"><pre>Pipeline(steps=[(&#x27;scaler&#x27;, MinMaxScaler())])</pre></div> </div></div><div class=\"sk-serial\"><div class=\"sk-item\"><div class=\"sk-estimator fitted sk-toggleable\"><input class=\"sk-toggleable__control sk-hidden--visually\" id=\"sk-estimator-id-2\" type=\"checkbox\" ><label for=\"sk-estimator-id-2\" class=\"sk-toggleable__label fitted sk-toggleable__label-arrow\"><div><div>MinMaxScaler</div></div><div><a class=\"sk-estimator-doc-link fitted\" rel=\"noreferrer\" target=\"_blank\" href=\"https://scikit-learn.org/1.6/modules/generated/sklearn.preprocessing.MinMaxScaler.html\">?<span>Documentation for MinMaxScaler</span></a></div></label><div class=\"sk-toggleable__content fitted\"><pre>MinMaxScaler()</pre></div> </div></div></div></div></div></div>"
      ],
      "text/plain": [
       "Pipeline(steps=[('scaler', MinMaxScaler())])"
      ]
     },
     "execution_count": 6,
     "metadata": {},
     "output_type": "execute_result"
    }
   ],
   "source": [
    "pipeline = Pipeline([('scaler', MinMaxScaler())])\n",
    "pipeline.fit(train_full)"
   ]
  },
  {
   "cell_type": "code",
   "execution_count": 7,
   "id": "c787067d",
   "metadata": {},
   "outputs": [],
   "source": [
    "# transform the training and validation data with these parameters\n",
    "X_train_transformed = pipeline.transform(train_full)\n",
    "X_validate_transformed = pipeline.transform(test_full)"
   ]
  },
  {
   "cell_type": "code",
   "execution_count": 8,
   "id": "0f2976b5",
   "metadata": {},
   "outputs": [],
   "source": [
    "input_dim = X_train_transformed.shape[1]\n",
    "BATCH_SIZE = 256\n",
    "EPOCHS = 100"
   ]
  },
  {
   "cell_type": "code",
   "execution_count": 10,
   "id": "5d34255f",
   "metadata": {},
   "outputs": [
    {
     "name": "stdout",
     "output_type": "stream",
     "text": [
      "14\n"
     ]
    }
   ],
   "source": [
    "print(input_dim)"
   ]
  },
  {
   "cell_type": "code",
   "execution_count": 9,
   "id": "ff32da8d",
   "metadata": {},
   "outputs": [],
   "source": [
    "class CustomDataset(Dataset):\n",
    "    def __init__(self,dataset):\n",
    "        self.dataset = torch.tensor(dataset, dtype=torch.float32)\n",
    "        \n",
    "    def __len__(self):\n",
    "        return len(self.dataset)\n",
    "    \n",
    "    def __getitem__(self, idx):\n",
    "        return self.dataset[idx]"
   ]
  },
  {
   "cell_type": "code",
   "execution_count": 10,
   "id": "45fb2453",
   "metadata": {},
   "outputs": [],
   "source": [
    "train_dataset = CustomDataset(X_train_transformed)\n",
    "val_dataset = CustomDataset(X_validate_transformed)"
   ]
  },
  {
   "cell_type": "code",
   "execution_count": 11,
   "id": "3fcd84bf",
   "metadata": {},
   "outputs": [],
   "source": [
    "train_loader = DataLoader(train_dataset, BATCH_SIZE, shuffle=True)\n",
    "val_loader = DataLoader(val_dataset, BATCH_SIZE, shuffle=False)"
   ]
  },
  {
   "cell_type": "code",
   "execution_count": 12,
   "id": "355d76cd",
   "metadata": {},
   "outputs": [],
   "source": [
    "class VarAutoEncoder(nn.Module):\n",
    "    def __init__(self, input_dim, latent_dim=4):\n",
    "        super().__init__()\n",
    "        # Encoder layers\n",
    "        self.encoder = nn.Sequential(\n",
    "            nn.Linear(input_dim, 16),\n",
    "            nn.ELU(),\n",
    "            nn.Linear(16, 8),\n",
    "            nn.ELU(),\n",
    "            nn.Linear(8, 4),\n",
    "            nn.ELU(),\n",
    "        )\n",
    "\n",
    "        self.fc_mu = nn.Linear(4, latent_dim)\n",
    "        self.fc_log_var = nn.Linear(4, latent_dim)\n",
    "\n",
    "        # Decoder layers\n",
    "        self.decoder = nn.Sequential(\n",
    "            nn.Linear(latent_dim, 4),\n",
    "            nn.ELU(),\n",
    "            nn.Linear(4, 8),\n",
    "            nn.ELU(),\n",
    "            nn.Linear(8, 16),\n",
    "            nn.ELU(),\n",
    "            nn.Linear(16, input_dim),\n",
    "            nn.ELU()\n",
    "        )\n",
    "\n",
    "    def reparameterize(self, mu, log_var):\n",
    "        std = torch.exp(0.5 * log_var)\n",
    "        eps = torch.randn_like(std)\n",
    "        return mu + eps * std\n",
    "\n",
    "    def forward(self, x):\n",
    "        encoded = self.encoder(x)\n",
    "        mu = self.fc_mu(encoded)\n",
    "        log_var = self.fc_log_var(encoded)\n",
    "        z = self.reparameterize(mu, log_var)\n",
    "        decoded = self.decoder(z)\n",
    "        return decoded, mu, log_var"
   ]
  },
  {
   "cell_type": "code",
   "execution_count": 13,
   "id": "a4dac61d",
   "metadata": {},
   "outputs": [
    {
     "name": "stdout",
     "output_type": "stream",
     "text": [
      "VarAutoEncoder(\n",
      "  (encoder): Sequential(\n",
      "    (0): Linear(in_features=14, out_features=16, bias=True)\n",
      "    (1): ELU(alpha=1.0)\n",
      "    (2): Linear(in_features=16, out_features=8, bias=True)\n",
      "    (3): ELU(alpha=1.0)\n",
      "    (4): Linear(in_features=8, out_features=4, bias=True)\n",
      "    (5): ELU(alpha=1.0)\n",
      "  )\n",
      "  (fc_mu): Linear(in_features=4, out_features=4, bias=True)\n",
      "  (fc_log_var): Linear(in_features=4, out_features=4, bias=True)\n",
      "  (decoder): Sequential(\n",
      "    (0): Linear(in_features=4, out_features=4, bias=True)\n",
      "    (1): ELU(alpha=1.0)\n",
      "    (2): Linear(in_features=4, out_features=8, bias=True)\n",
      "    (3): ELU(alpha=1.0)\n",
      "    (4): Linear(in_features=8, out_features=16, bias=True)\n",
      "    (5): ELU(alpha=1.0)\n",
      "    (6): Linear(in_features=16, out_features=14, bias=True)\n",
      "    (7): ELU(alpha=1.0)\n",
      "  )\n",
      ")\n"
     ]
    }
   ],
   "source": [
    "autoencoder= VarAutoEncoder(input_dim=input_dim)\n",
    "print(autoencoder)"
   ]
  },
  {
   "cell_type": "code",
   "execution_count": 14,
   "id": "9d0752e2",
   "metadata": {},
   "outputs": [],
   "source": [
    "def vae_loss_function(reconstructed, original, mu, log_var, beta=0.005):\n",
    "    recon_loss = F.mse_loss(reconstructed, original, reduction='mean')\n",
    "    kl_loss = -0.5 * torch.mean(1 + log_var - mu.pow(2) - log_var.exp())\n",
    "    return recon_loss + beta * kl_loss"
   ]
  },
  {
   "cell_type": "code",
   "execution_count": 15,
   "id": "50aa4909",
   "metadata": {},
   "outputs": [],
   "source": [
    "def train_autoencoder(model, train_loader, val_loader, epochs=100, lr=0.001):\n",
    "    device = torch.device('cpu')\n",
    "    model.to(device)\n",
    "    optimizer = optim.Adam(model.parameters(), lr=lr)\n",
    "    \n",
    "    train_losses = []\n",
    "    val_losses = []\n",
    "    best_val_loss = float('inf')\n",
    "    patience = 15\n",
    "    patience_counter = 0\n",
    "    \n",
    "    print(f\"Training Variational Autoencoder for {epochs} epochs...\")\n",
    "    print(\"-\" * 50)\n",
    "    \n",
    "    for epoch in range(epochs):\n",
    "        start_time = time.time()\n",
    "        model.train()\n",
    "        train_loss = 0.0\n",
    "        for batch_data in train_loader:\n",
    "            batch_data = batch_data.to(device)\n",
    "            optimizer.zero_grad()\n",
    "            reconstructed, mu, log_var = model(batch_data)\n",
    "            loss = vae_loss_function(reconstructed, batch_data, mu, log_var, beta=0.005)\n",
    "            loss.backward()\n",
    "            optimizer.step()\n",
    "            train_loss += loss.item()\n",
    "        avg_train_loss = train_loss / len(train_loader)\n",
    "        train_losses.append(avg_train_loss)\n",
    "        \n",
    "        model.eval()\n",
    "        val_loss = 0.0\n",
    "        with torch.no_grad():\n",
    "            for batch_data in val_loader:\n",
    "                batch_data = batch_data.to(device)\n",
    "                reconstructed, mu, log_var = model(batch_data)\n",
    "                loss = vae_loss_function(reconstructed, batch_data, mu, log_var, beta=0.005)\n",
    "                val_loss += loss.item()\n",
    "        avg_val_loss = val_loss / len(val_loader)\n",
    "        val_losses.append(avg_val_loss)\n",
    "        \n",
    "        if avg_val_loss < best_val_loss:\n",
    "            best_val_loss = avg_val_loss\n",
    "            patience_counter = 0\n",
    "            best_model = model.state_dict().copy()\n",
    "        else:\n",
    "            patience_counter += 1\n",
    "        \n",
    "        epoch_time = time.time() - start_time\n",
    "        print(f\"Epoch {epoch+1:3d}/{epochs} | Train: {avg_train_loss:.6f} | Val: {avg_val_loss:.6f} | Time: {epoch_time:.1f}s | Patience: {patience_counter}/{patience}\")\n",
    "        if patience_counter >= patience:\n",
    "            print(f\"\\nEarly stopping at epoch {epoch+1}\")\n",
    "            print(f\"Best validation loss: {best_val_loss:.6f}\")\n",
    "            model.load_state_dict(best_model)\n",
    "            break\n",
    "\n",
    "    print(\"Training completed!\")\n",
    "    return model, train_losses, val_losses"
   ]
  },
  {
   "cell_type": "code",
   "execution_count": 96,
   "id": "4a3cbe5b",
   "metadata": {},
   "outputs": [
    {
     "name": "stdout",
     "output_type": "stream",
     "text": [
      "Model created with 894 parameters\n",
      "Training Variational Autoencoder for 100 epochs...\n",
      "--------------------------------------------------\n",
      "Epoch   1/100 | Train: 0.007754 | Val: 0.007772 | Time: 112.2s | Patience: 0/15\n",
      "Epoch   2/100 | Train: 0.007753 | Val: 0.007673 | Time: 106.6s | Patience: 0/15\n",
      "Epoch   3/100 | Train: 0.007748 | Val: 0.007785 | Time: 104.0s | Patience: 1/15\n",
      "Epoch   4/100 | Train: 0.007752 | Val: 0.007686 | Time: 102.7s | Patience: 2/15\n",
      "Epoch   5/100 | Train: 0.007749 | Val: 0.007688 | Time: 103.7s | Patience: 3/15\n",
      "Epoch   6/100 | Train: 0.007746 | Val: 0.007731 | Time: 105.5s | Patience: 4/15\n",
      "Epoch   7/100 | Train: 0.007745 | Val: 0.007739 | Time: 105.8s | Patience: 5/15\n",
      "Epoch   8/100 | Train: 0.007749 | Val: 0.007709 | Time: 103.5s | Patience: 6/15\n",
      "Epoch   9/100 | Train: 0.007749 | Val: 0.007699 | Time: 108.6s | Patience: 7/15\n",
      "Epoch  10/100 | Train: 0.007748 | Val: 0.007753 | Time: 106.5s | Patience: 8/15\n",
      "Epoch  11/100 | Train: 0.007741 | Val: 0.007722 | Time: 109.6s | Patience: 9/15\n",
      "Epoch  12/100 | Train: 0.007754 | Val: 0.007847 | Time: 107.3s | Patience: 10/15\n",
      "Epoch  13/100 | Train: 0.007744 | Val: 0.007723 | Time: 104.0s | Patience: 11/15\n",
      "Epoch  14/100 | Train: 0.007744 | Val: 0.007729 | Time: 105.8s | Patience: 12/15\n",
      "Epoch  15/100 | Train: 0.007746 | Val: 0.007733 | Time: 103.0s | Patience: 13/15\n",
      "Epoch  16/100 | Train: 0.007743 | Val: 0.007781 | Time: 102.3s | Patience: 14/15\n",
      "Epoch  17/100 | Train: 0.007740 | Val: 0.007789 | Time: 103.2s | Patience: 15/15\n",
      "\n",
      "Early stopping at epoch 17\n",
      "Best validation loss: 0.007673\n",
      "Training completed!\n"
     ]
    }
   ],
   "source": [
    "def run_training():\n",
    "    vae = autoencoder\n",
    "    print(f\"Model created with {sum(p.numel() for p in vae.parameters())} parameters\")\n",
    "    trained_model, train_history, val_history = train_autoencoder(\n",
    "        model=vae,\n",
    "        train_loader=train_loader,\n",
    "        val_loader=val_loader,\n",
    "        epochs=EPOCHS,\n",
    "        lr=0.001\n",
    "    ) \n",
    "    return trained_model, train_history, val_history\n",
    "\n",
    "if __name__ == \"__main__\":\n",
    "    trained_model, train_losses, val_losses = run_training()"
   ]
  },
  {
   "cell_type": "code",
   "execution_count": null,
   "id": "54d09a38",
   "metadata": {},
   "outputs": [],
   "source": [
    "#Saving Only the model weights\n",
    "torch.save(trained_model.state_dict(), 'vae_4dim_6_final.pth')"
   ]
  },
  {
   "cell_type": "code",
   "execution_count": 16,
   "id": "a1a7e099",
   "metadata": {},
   "outputs": [
    {
     "data": {
      "text/plain": [
       "VarAutoEncoder(\n",
       "  (encoder): Sequential(\n",
       "    (0): Linear(in_features=14, out_features=16, bias=True)\n",
       "    (1): ELU(alpha=1.0)\n",
       "    (2): Linear(in_features=16, out_features=8, bias=True)\n",
       "    (3): ELU(alpha=1.0)\n",
       "    (4): Linear(in_features=8, out_features=4, bias=True)\n",
       "    (5): ELU(alpha=1.0)\n",
       "  )\n",
       "  (fc_mu): Linear(in_features=4, out_features=4, bias=True)\n",
       "  (fc_log_var): Linear(in_features=4, out_features=4, bias=True)\n",
       "  (decoder): Sequential(\n",
       "    (0): Linear(in_features=4, out_features=4, bias=True)\n",
       "    (1): ELU(alpha=1.0)\n",
       "    (2): Linear(in_features=4, out_features=8, bias=True)\n",
       "    (3): ELU(alpha=1.0)\n",
       "    (4): Linear(in_features=8, out_features=16, bias=True)\n",
       "    (5): ELU(alpha=1.0)\n",
       "    (6): Linear(in_features=16, out_features=14, bias=True)\n",
       "    (7): ELU(alpha=1.0)\n",
       "  )\n",
       ")"
      ]
     },
     "execution_count": 16,
     "metadata": {},
     "output_type": "execute_result"
    }
   ],
   "source": [
    "# Loading the model weights\n",
    "loaded_model = VarAutoEncoder(input_dim=input_dim, latent_dim=4)\n",
    "loaded_model.load_state_dict(torch.load(\"vae_4dim_6_final.pth\"))\n",
    "loaded_model.eval()"
   ]
  },
  {
   "cell_type": "code",
   "execution_count": 17,
   "id": "3b966192",
   "metadata": {},
   "outputs": [],
   "source": [
    "def test_autoencoder_on_patient(patient_id, model, pipeline, patients_dict):\n",
    "    file_paths = patients_dict[patient_id]\n",
    "    patient_df = pd.concat([pd.read_csv(fp).drop(columns=['Time'], errors='ignore') for fp in file_paths], ignore_index=True)\n",
    "    patient_data_transformed = pipeline.transform(patient_df)\n",
    "    patient_tensor = torch.tensor(patient_data_transformed, dtype=torch.float32)\n",
    "    model.eval()\n",
    "    with torch.no_grad():\n",
    "        reconstructed, _, _ = model(patient_tensor)\n",
    "        reconstructed = reconstructed.numpy()\n",
    "    mse = np.mean((patient_data_transformed - reconstructed) ** 2, axis=1)\n",
    "    return mse\n"
   ]
  },
  {
   "cell_type": "code",
   "execution_count": null,
   "id": "a4f6a382",
   "metadata": {},
   "outputs": [
    {
     "name": "stdout",
     "output_type": "stream",
     "text": [
      "Processing Patient 1...\n"
     ]
    },
    {
     "name": "stderr",
     "output_type": "stream",
     "text": [
      "/var/folders/bd/9ft36zdj2zj1l_tnnp4gt6_80000gn/T/ipykernel_2404/2501274103.py:53: DeprecationWarning: `trapz` is deprecated. Use `trapezoid` instead, or one of the numerical integration functions in `scipy.integrate`.\n",
      "  overlap = np.trapz(np.minimum(kde_base(x_vals), kde_test(x_vals)), x_vals) * 100\n",
      "/var/folders/bd/9ft36zdj2zj1l_tnnp4gt6_80000gn/T/ipykernel_2404/2501274103.py:77: DeprecationWarning: `trapz` is deprecated. Use `trapezoid` instead, or one of the numerical integration functions in `scipy.integrate`.\n",
      "  overlap_f = np.trapz(np.minimum(kde_bf(x_vals_f), kde_tf(x_vals_f)), x_vals_f) * 100\n"
     ]
    },
    {
     "name": "stdout",
     "output_type": "stream",
     "text": [
      "Processing Patient 2...\n"
     ]
    },
    {
     "name": "stderr",
     "output_type": "stream",
     "text": [
      "/var/folders/bd/9ft36zdj2zj1l_tnnp4gt6_80000gn/T/ipykernel_2404/2501274103.py:53: DeprecationWarning: `trapz` is deprecated. Use `trapezoid` instead, or one of the numerical integration functions in `scipy.integrate`.\n",
      "  overlap = np.trapz(np.minimum(kde_base(x_vals), kde_test(x_vals)), x_vals) * 100\n",
      "/var/folders/bd/9ft36zdj2zj1l_tnnp4gt6_80000gn/T/ipykernel_2404/2501274103.py:77: DeprecationWarning: `trapz` is deprecated. Use `trapezoid` instead, or one of the numerical integration functions in `scipy.integrate`.\n",
      "  overlap_f = np.trapz(np.minimum(kde_bf(x_vals_f), kde_tf(x_vals_f)), x_vals_f) * 100\n"
     ]
    },
    {
     "name": "stdout",
     "output_type": "stream",
     "text": [
      "Processing Patient 3...\n"
     ]
    },
    {
     "name": "stderr",
     "output_type": "stream",
     "text": [
      "/var/folders/bd/9ft36zdj2zj1l_tnnp4gt6_80000gn/T/ipykernel_2404/2501274103.py:53: DeprecationWarning: `trapz` is deprecated. Use `trapezoid` instead, or one of the numerical integration functions in `scipy.integrate`.\n",
      "  overlap = np.trapz(np.minimum(kde_base(x_vals), kde_test(x_vals)), x_vals) * 100\n",
      "/var/folders/bd/9ft36zdj2zj1l_tnnp4gt6_80000gn/T/ipykernel_2404/2501274103.py:77: DeprecationWarning: `trapz` is deprecated. Use `trapezoid` instead, or one of the numerical integration functions in `scipy.integrate`.\n",
      "  overlap_f = np.trapz(np.minimum(kde_bf(x_vals_f), kde_tf(x_vals_f)), x_vals_f) * 100\n"
     ]
    },
    {
     "name": "stdout",
     "output_type": "stream",
     "text": [
      "Processing Patient 4...\n"
     ]
    },
    {
     "name": "stderr",
     "output_type": "stream",
     "text": [
      "/var/folders/bd/9ft36zdj2zj1l_tnnp4gt6_80000gn/T/ipykernel_2404/2501274103.py:53: DeprecationWarning: `trapz` is deprecated. Use `trapezoid` instead, or one of the numerical integration functions in `scipy.integrate`.\n",
      "  overlap = np.trapz(np.minimum(kde_base(x_vals), kde_test(x_vals)), x_vals) * 100\n",
      "/var/folders/bd/9ft36zdj2zj1l_tnnp4gt6_80000gn/T/ipykernel_2404/2501274103.py:77: DeprecationWarning: `trapz` is deprecated. Use `trapezoid` instead, or one of the numerical integration functions in `scipy.integrate`.\n",
      "  overlap_f = np.trapz(np.minimum(kde_bf(x_vals_f), kde_tf(x_vals_f)), x_vals_f) * 100\n"
     ]
    },
    {
     "name": "stdout",
     "output_type": "stream",
     "text": [
      "Processing Patient 5...\n"
     ]
    },
    {
     "name": "stderr",
     "output_type": "stream",
     "text": [
      "/var/folders/bd/9ft36zdj2zj1l_tnnp4gt6_80000gn/T/ipykernel_2404/2501274103.py:53: DeprecationWarning: `trapz` is deprecated. Use `trapezoid` instead, or one of the numerical integration functions in `scipy.integrate`.\n",
      "  overlap = np.trapz(np.minimum(kde_base(x_vals), kde_test(x_vals)), x_vals) * 100\n",
      "/var/folders/bd/9ft36zdj2zj1l_tnnp4gt6_80000gn/T/ipykernel_2404/2501274103.py:77: DeprecationWarning: `trapz` is deprecated. Use `trapezoid` instead, or one of the numerical integration functions in `scipy.integrate`.\n",
      "  overlap_f = np.trapz(np.minimum(kde_bf(x_vals_f), kde_tf(x_vals_f)), x_vals_f) * 100\n"
     ]
    },
    {
     "name": "stdout",
     "output_type": "stream",
     "text": [
      "Processing Patient 6...\n"
     ]
    },
    {
     "name": "stderr",
     "output_type": "stream",
     "text": [
      "/var/folders/bd/9ft36zdj2zj1l_tnnp4gt6_80000gn/T/ipykernel_2404/2501274103.py:53: DeprecationWarning: `trapz` is deprecated. Use `trapezoid` instead, or one of the numerical integration functions in `scipy.integrate`.\n",
      "  overlap = np.trapz(np.minimum(kde_base(x_vals), kde_test(x_vals)), x_vals) * 100\n",
      "/var/folders/bd/9ft36zdj2zj1l_tnnp4gt6_80000gn/T/ipykernel_2404/2501274103.py:77: DeprecationWarning: `trapz` is deprecated. Use `trapezoid` instead, or one of the numerical integration functions in `scipy.integrate`.\n",
      "  overlap_f = np.trapz(np.minimum(kde_bf(x_vals_f), kde_tf(x_vals_f)), x_vals_f) * 100\n"
     ]
    },
    {
     "name": "stdout",
     "output_type": "stream",
     "text": [
      "Processing Patient 7...\n"
     ]
    },
    {
     "name": "stderr",
     "output_type": "stream",
     "text": [
      "/var/folders/bd/9ft36zdj2zj1l_tnnp4gt6_80000gn/T/ipykernel_2404/2501274103.py:53: DeprecationWarning: `trapz` is deprecated. Use `trapezoid` instead, or one of the numerical integration functions in `scipy.integrate`.\n",
      "  overlap = np.trapz(np.minimum(kde_base(x_vals), kde_test(x_vals)), x_vals) * 100\n",
      "/var/folders/bd/9ft36zdj2zj1l_tnnp4gt6_80000gn/T/ipykernel_2404/2501274103.py:77: DeprecationWarning: `trapz` is deprecated. Use `trapezoid` instead, or one of the numerical integration functions in `scipy.integrate`.\n",
      "  overlap_f = np.trapz(np.minimum(kde_bf(x_vals_f), kde_tf(x_vals_f)), x_vals_f) * 100\n"
     ]
    },
    {
     "name": "stdout",
     "output_type": "stream",
     "text": [
      "Processing Patient 8...\n"
     ]
    },
    {
     "name": "stderr",
     "output_type": "stream",
     "text": [
      "/var/folders/bd/9ft36zdj2zj1l_tnnp4gt6_80000gn/T/ipykernel_2404/2501274103.py:53: DeprecationWarning: `trapz` is deprecated. Use `trapezoid` instead, or one of the numerical integration functions in `scipy.integrate`.\n",
      "  overlap = np.trapz(np.minimum(kde_base(x_vals), kde_test(x_vals)), x_vals) * 100\n",
      "/var/folders/bd/9ft36zdj2zj1l_tnnp4gt6_80000gn/T/ipykernel_2404/2501274103.py:77: DeprecationWarning: `trapz` is deprecated. Use `trapezoid` instead, or one of the numerical integration functions in `scipy.integrate`.\n",
      "  overlap_f = np.trapz(np.minimum(kde_bf(x_vals_f), kde_tf(x_vals_f)), x_vals_f) * 100\n"
     ]
    },
    {
     "name": "stdout",
     "output_type": "stream",
     "text": [
      "Processing Patient 9...\n"
     ]
    },
    {
     "name": "stderr",
     "output_type": "stream",
     "text": [
      "/var/folders/bd/9ft36zdj2zj1l_tnnp4gt6_80000gn/T/ipykernel_2404/2501274103.py:53: DeprecationWarning: `trapz` is deprecated. Use `trapezoid` instead, or one of the numerical integration functions in `scipy.integrate`.\n",
      "  overlap = np.trapz(np.minimum(kde_base(x_vals), kde_test(x_vals)), x_vals) * 100\n",
      "/var/folders/bd/9ft36zdj2zj1l_tnnp4gt6_80000gn/T/ipykernel_2404/2501274103.py:77: DeprecationWarning: `trapz` is deprecated. Use `trapezoid` instead, or one of the numerical integration functions in `scipy.integrate`.\n",
      "  overlap_f = np.trapz(np.minimum(kde_bf(x_vals_f), kde_tf(x_vals_f)), x_vals_f) * 100\n"
     ]
    },
    {
     "name": "stdout",
     "output_type": "stream",
     "text": [
      "Processing Patient 10...\n"
     ]
    },
    {
     "name": "stderr",
     "output_type": "stream",
     "text": [
      "/var/folders/bd/9ft36zdj2zj1l_tnnp4gt6_80000gn/T/ipykernel_2404/2501274103.py:53: DeprecationWarning: `trapz` is deprecated. Use `trapezoid` instead, or one of the numerical integration functions in `scipy.integrate`.\n",
      "  overlap = np.trapz(np.minimum(kde_base(x_vals), kde_test(x_vals)), x_vals) * 100\n",
      "/var/folders/bd/9ft36zdj2zj1l_tnnp4gt6_80000gn/T/ipykernel_2404/2501274103.py:77: DeprecationWarning: `trapz` is deprecated. Use `trapezoid` instead, or one of the numerical integration functions in `scipy.integrate`.\n",
      "  overlap_f = np.trapz(np.minimum(kde_bf(x_vals_f), kde_tf(x_vals_f)), x_vals_f) * 100\n"
     ]
    },
    {
     "name": "stdout",
     "output_type": "stream",
     "text": [
      "Processing Patient 11...\n"
     ]
    },
    {
     "name": "stderr",
     "output_type": "stream",
     "text": [
      "/var/folders/bd/9ft36zdj2zj1l_tnnp4gt6_80000gn/T/ipykernel_2404/2501274103.py:53: DeprecationWarning: `trapz` is deprecated. Use `trapezoid` instead, or one of the numerical integration functions in `scipy.integrate`.\n",
      "  overlap = np.trapz(np.minimum(kde_base(x_vals), kde_test(x_vals)), x_vals) * 100\n",
      "/var/folders/bd/9ft36zdj2zj1l_tnnp4gt6_80000gn/T/ipykernel_2404/2501274103.py:77: DeprecationWarning: `trapz` is deprecated. Use `trapezoid` instead, or one of the numerical integration functions in `scipy.integrate`.\n",
      "  overlap_f = np.trapz(np.minimum(kde_bf(x_vals_f), kde_tf(x_vals_f)), x_vals_f) * 100\n"
     ]
    },
    {
     "name": "stdout",
     "output_type": "stream",
     "text": [
      "Processing Patient 12...\n"
     ]
    },
    {
     "name": "stderr",
     "output_type": "stream",
     "text": [
      "/var/folders/bd/9ft36zdj2zj1l_tnnp4gt6_80000gn/T/ipykernel_2404/2501274103.py:53: DeprecationWarning: `trapz` is deprecated. Use `trapezoid` instead, or one of the numerical integration functions in `scipy.integrate`.\n",
      "  overlap = np.trapz(np.minimum(kde_base(x_vals), kde_test(x_vals)), x_vals) * 100\n",
      "/var/folders/bd/9ft36zdj2zj1l_tnnp4gt6_80000gn/T/ipykernel_2404/2501274103.py:77: DeprecationWarning: `trapz` is deprecated. Use `trapezoid` instead, or one of the numerical integration functions in `scipy.integrate`.\n",
      "  overlap_f = np.trapz(np.minimum(kde_bf(x_vals_f), kde_tf(x_vals_f)), x_vals_f) * 100\n"
     ]
    },
    {
     "name": "stdout",
     "output_type": "stream",
     "text": [
      "Processing Patient 13...\n"
     ]
    },
    {
     "name": "stderr",
     "output_type": "stream",
     "text": [
      "/var/folders/bd/9ft36zdj2zj1l_tnnp4gt6_80000gn/T/ipykernel_2404/2501274103.py:53: DeprecationWarning: `trapz` is deprecated. Use `trapezoid` instead, or one of the numerical integration functions in `scipy.integrate`.\n",
      "  overlap = np.trapz(np.minimum(kde_base(x_vals), kde_test(x_vals)), x_vals) * 100\n",
      "/var/folders/bd/9ft36zdj2zj1l_tnnp4gt6_80000gn/T/ipykernel_2404/2501274103.py:77: DeprecationWarning: `trapz` is deprecated. Use `trapezoid` instead, or one of the numerical integration functions in `scipy.integrate`.\n",
      "  overlap_f = np.trapz(np.minimum(kde_bf(x_vals_f), kde_tf(x_vals_f)), x_vals_f) * 100\n"
     ]
    },
    {
     "name": "stdout",
     "output_type": "stream",
     "text": [
      "Processing Patient 14...\n"
     ]
    },
    {
     "name": "stderr",
     "output_type": "stream",
     "text": [
      "/var/folders/bd/9ft36zdj2zj1l_tnnp4gt6_80000gn/T/ipykernel_2404/2501274103.py:53: DeprecationWarning: `trapz` is deprecated. Use `trapezoid` instead, or one of the numerical integration functions in `scipy.integrate`.\n",
      "  overlap = np.trapz(np.minimum(kde_base(x_vals), kde_test(x_vals)), x_vals) * 100\n",
      "/var/folders/bd/9ft36zdj2zj1l_tnnp4gt6_80000gn/T/ipykernel_2404/2501274103.py:77: DeprecationWarning: `trapz` is deprecated. Use `trapezoid` instead, or one of the numerical integration functions in `scipy.integrate`.\n",
      "  overlap_f = np.trapz(np.minimum(kde_bf(x_vals_f), kde_tf(x_vals_f)), x_vals_f) * 100\n"
     ]
    },
    {
     "name": "stdout",
     "output_type": "stream",
     "text": [
      "Processing Patient 15...\n"
     ]
    },
    {
     "name": "stderr",
     "output_type": "stream",
     "text": [
      "/var/folders/bd/9ft36zdj2zj1l_tnnp4gt6_80000gn/T/ipykernel_2404/2501274103.py:53: DeprecationWarning: `trapz` is deprecated. Use `trapezoid` instead, or one of the numerical integration functions in `scipy.integrate`.\n",
      "  overlap = np.trapz(np.minimum(kde_base(x_vals), kde_test(x_vals)), x_vals) * 100\n",
      "/var/folders/bd/9ft36zdj2zj1l_tnnp4gt6_80000gn/T/ipykernel_2404/2501274103.py:77: DeprecationWarning: `trapz` is deprecated. Use `trapezoid` instead, or one of the numerical integration functions in `scipy.integrate`.\n",
      "  overlap_f = np.trapz(np.minimum(kde_bf(x_vals_f), kde_tf(x_vals_f)), x_vals_f) * 100\n"
     ]
    },
    {
     "name": "stdout",
     "output_type": "stream",
     "text": [
      "Processing Patient 16...\n"
     ]
    },
    {
     "name": "stderr",
     "output_type": "stream",
     "text": [
      "/var/folders/bd/9ft36zdj2zj1l_tnnp4gt6_80000gn/T/ipykernel_2404/2501274103.py:53: DeprecationWarning: `trapz` is deprecated. Use `trapezoid` instead, or one of the numerical integration functions in `scipy.integrate`.\n",
      "  overlap = np.trapz(np.minimum(kde_base(x_vals), kde_test(x_vals)), x_vals) * 100\n",
      "/var/folders/bd/9ft36zdj2zj1l_tnnp4gt6_80000gn/T/ipykernel_2404/2501274103.py:77: DeprecationWarning: `trapz` is deprecated. Use `trapezoid` instead, or one of the numerical integration functions in `scipy.integrate`.\n",
      "  overlap_f = np.trapz(np.minimum(kde_bf(x_vals_f), kde_tf(x_vals_f)), x_vals_f) * 100\n"
     ]
    },
    {
     "name": "stdout",
     "output_type": "stream",
     "text": [
      "Processing Patient 17...\n"
     ]
    },
    {
     "name": "stderr",
     "output_type": "stream",
     "text": [
      "/var/folders/bd/9ft36zdj2zj1l_tnnp4gt6_80000gn/T/ipykernel_2404/2501274103.py:53: DeprecationWarning: `trapz` is deprecated. Use `trapezoid` instead, or one of the numerical integration functions in `scipy.integrate`.\n",
      "  overlap = np.trapz(np.minimum(kde_base(x_vals), kde_test(x_vals)), x_vals) * 100\n",
      "/var/folders/bd/9ft36zdj2zj1l_tnnp4gt6_80000gn/T/ipykernel_2404/2501274103.py:77: DeprecationWarning: `trapz` is deprecated. Use `trapezoid` instead, or one of the numerical integration functions in `scipy.integrate`.\n",
      "  overlap_f = np.trapz(np.minimum(kde_bf(x_vals_f), kde_tf(x_vals_f)), x_vals_f) * 100\n"
     ]
    },
    {
     "name": "stdout",
     "output_type": "stream",
     "text": [
      "Processing Patient 18...\n"
     ]
    },
    {
     "name": "stderr",
     "output_type": "stream",
     "text": [
      "/var/folders/bd/9ft36zdj2zj1l_tnnp4gt6_80000gn/T/ipykernel_2404/2501274103.py:53: DeprecationWarning: `trapz` is deprecated. Use `trapezoid` instead, or one of the numerical integration functions in `scipy.integrate`.\n",
      "  overlap = np.trapz(np.minimum(kde_base(x_vals), kde_test(x_vals)), x_vals) * 100\n",
      "/var/folders/bd/9ft36zdj2zj1l_tnnp4gt6_80000gn/T/ipykernel_2404/2501274103.py:77: DeprecationWarning: `trapz` is deprecated. Use `trapezoid` instead, or one of the numerical integration functions in `scipy.integrate`.\n",
      "  overlap_f = np.trapz(np.minimum(kde_bf(x_vals_f), kde_tf(x_vals_f)), x_vals_f) * 100\n"
     ]
    }
   ],
   "source": [
    "import os\n",
    "import numpy as np\n",
    "import matplotlib.pyplot as plt\n",
    "import seaborn as sns\n",
    "from scipy.stats import gaussian_kde\n",
    "\n",
    "# Threshold for filtering high-error cells\n",
    "threshold = 0.02251102037764048\n",
    "\n",
    "# Output directory\n",
    "os.makedirs(\"vae_full_density_plots\", exist_ok=True)\n",
    "\n",
    "# Collects MSEs for all healthy patients (1 to 6)\n",
    "healthy_mse_all = []\n",
    "for pid in range(1, 7):\n",
    "    mse = test_autoencoder_on_patient(pid, loaded_model, pipeline, patients)\n",
    "    healthy_mse_all.extend(mse)\n",
    "healthy_mse_all = np.array(healthy_mse_all)\n",
    "\n",
    "# X-axis zoom limits\n",
    "xlim_left = 0.10       \n",
    "xlim_right = 0.125    \n",
    "\n",
    "# Generating plots for all 18 patients\n",
    "for pid in range(1, 19):\n",
    "    print(f\"Processing Patient {pid}...\")\n",
    "    \n",
    "    patient_mse = np.array(test_autoencoder_on_patient(pid, loaded_model, pipeline, patients))\n",
    "\n",
    "    # Prepares baseline (healthy) vs test (current patient)\n",
    "    baseline = healthy_mse_all\n",
    "    test = patient_mse\n",
    "\n",
    "    fig, axes = plt.subplots(1, 2, figsize=(16, 6))\n",
    "\n",
    "    #LEFT PLOT: All Cells \n",
    "    sns.histplot(baseline, stat='density', bins=100, color='green', label='Baseline', ax=axes[0], kde=False, alpha=0.6)\n",
    "    sns.histplot(test, stat='density', bins=100,\n",
    "                 color='yellow' if pid <= 6 else 'red',\n",
    "                 label='Clean' if pid <= 6 else 'Test',\n",
    "                 ax=axes[0], kde=False, alpha=0.6)\n",
    "    \n",
    "    axes[0].legend()\n",
    "    axes[0].set_title(\"All Cells - Density Distribution\")\n",
    "    axes[0].set_xlabel(\"MSE\")\n",
    "    axes[0].set_ylabel(\"Density\")\n",
    "    axes[0].set_xlim(0, xlim_left)  \n",
    "\n",
    "    # Overlap (All Cells)\n",
    "    kde_base = gaussian_kde(baseline)\n",
    "    kde_test = gaussian_kde(test)\n",
    "    x_vals = np.linspace(0, xlim_left, 1000)\n",
    "    overlap = np.trapz(np.minimum(kde_base(x_vals), kde_test(x_vals)), x_vals) * 100\n",
    "    axes[0].text(0.01, 0.9 * axes[0].get_ylim()[1],\n",
    "                 f\"Overlap (Density): {overlap:.2f}%\", fontsize=10)\n",
    "\n",
    "    #RIGHT PLOT: Filtered (MSE ≥ threshold) \n",
    "    base_filt = baseline[baseline >= threshold]\n",
    "    test_filt = test[test >= threshold]\n",
    "\n",
    "    sns.histplot(base_filt, stat='density', bins=100, color='green', label='Baseline', ax=axes[1], kde=False, alpha=0.6)\n",
    "    sns.histplot(test_filt, stat='density', bins=100,\n",
    "                 color='yellow' if pid <= 6 else 'red',\n",
    "                 label='Clean' if pid <= 6 else 'Test',\n",
    "                 ax=axes[1], kde=False, alpha=0.6)\n",
    "    \n",
    "    axes[1].legend()\n",
    "    axes[1].set_title(f\"Density from MSE ≥ {threshold:.5f}\")\n",
    "    axes[1].set_xlabel(\"MSE\")\n",
    "    axes[1].set_ylabel(\"Density\")\n",
    "    axes[1].set_xlim(threshold, xlim_right) \n",
    "\n",
    "    if len(base_filt) > 100 and len(test_filt) > 100:\n",
    "        kde_bf = gaussian_kde(base_filt)\n",
    "        kde_tf = gaussian_kde(test_filt)\n",
    "        x_vals_f = np.linspace(threshold, xlim_right, 1000)\n",
    "        overlap_f = np.trapz(np.minimum(kde_bf(x_vals_f), kde_tf(x_vals_f)), x_vals_f) * 100\n",
    "        axes[1].text(threshold + 0.005, 0.9 * axes[1].get_ylim()[1],\n",
    "                     f\"Overlap (Filtered): {overlap_f:.2f}%\", fontsize=10)\n",
    "\n",
    "    fig.suptitle(f\"Patient {pid}\", fontsize=16)\n",
    "    plt.tight_layout(rect=[0, 0.03, 1, 0.95])\n",
    "    plt.savefig(f\"vae_full_density_plots/Patient_{pid}_full_density.png\", dpi=300)\n",
    "    plt.close()"
   ]
  }
 ],
 "metadata": {
  "kernelspec": {
   "display_name": "dl_env",
   "language": "python",
   "name": "python3"
  },
  "language_info": {
   "codemirror_mode": {
    "name": "ipython",
    "version": 3
   },
   "file_extension": ".py",
   "mimetype": "text/x-python",
   "name": "python",
   "nbconvert_exporter": "python",
   "pygments_lexer": "ipython3",
   "version": "3.10.13"
  }
 },
 "nbformat": 4,
 "nbformat_minor": 5
}
